{
  "cells": [
    {
      "cell_type": "markdown",
      "metadata": {
        "id": "fP0MNErrPlvS"
      },
      "source": [
        "Make sure you remove `raise NotImplementedError()` and fill in any place that says `# YOUR CODE HERE`, as well as your `NAME`, `ID`, and `SECTION` below:"
      ]
    },
    {
      "cell_type": "code",
      "execution_count": null,
      "metadata": {
        "id": "dxCjWtFxPlvX"
      },
      "outputs": [],
      "source": [
        "NAME = \"\"\n",
        "ID = \"\"\n",
        "SECTION = \"\""
      ]
    },
    {
      "cell_type": "markdown",
      "metadata": {
        "id": "NQ8skUBePlvZ"
      },
      "source": [
        "---"
      ]
    },
    {
      "cell_type": "markdown",
      "metadata": {
        "deletable": false,
        "editable": false,
        "id": "t6HuHqs8Plva",
        "nbgrader": {
          "cell_type": "markdown",
          "checksum": "2ac7b29da925009a6e6e93ce16cd1871",
          "grade": false,
          "grade_id": "intro1",
          "locked": true,
          "schema_version": 3,
          "solution": false,
          "task": false
        }
      },
      "source": [
        "## Importing the necessary libraries"
      ]
    },
    {
      "cell_type": "code",
      "execution_count": null,
      "metadata": {
        "deletable": false,
        "editable": false,
        "id": "zaOqCWsePlvb",
        "nbgrader": {
          "cell_type": "code",
          "checksum": "b3ce57ac45d5516f69d56b4a7c02a1d6",
          "grade": false,
          "grade_id": "import",
          "locked": true,
          "schema_version": 3,
          "solution": false,
          "task": false
        }
      },
      "outputs": [],
      "source": [
        "import numpy as np\n",
        "import matplotlib.pyplot as plt\n",
        "from itertools import combinations\n",
        "from numpy.polynomial import Polynomial"
      ]
    },
    {
      "cell_type": "code",
      "source": [
        "P=Polynomial([1,2,3,4])"
      ],
      "metadata": {
        "id": "NeFqdK1_IUG9"
      },
      "execution_count": null,
      "outputs": []
    },
    {
      "cell_type": "code",
      "source": [
        "print(P)"
      ],
      "metadata": {
        "colab": {
          "base_uri": "https://localhost:8080/"
        },
        "id": "SKllERnSUCuh",
        "outputId": "e9db19e5-c51c-4d79-c422-11be158df2a1"
      },
      "execution_count": null,
      "outputs": [
        {
          "output_type": "stream",
          "name": "stdout",
          "text": [
            "1.0 + 2.0·x + 3.0·x² + 4.0·x³\n"
          ]
        }
      ]
    },
    {
      "cell_type": "code",
      "source": [
        "print(P.deriv(1))"
      ],
      "metadata": {
        "colab": {
          "base_uri": "https://localhost:8080/"
        },
        "id": "Ve6OSlPxMM2e",
        "outputId": "8375408a-0065-4006-ad42-b5727dcb112b"
      },
      "execution_count": null,
      "outputs": [
        {
          "output_type": "stream",
          "name": "stdout",
          "text": [
            "2.0 + 6.0·x + 12.0·x²\n"
          ]
        }
      ]
    },
    {
      "cell_type": "markdown",
      "metadata": {
        "deletable": false,
        "editable": false,
        "id": "UgP_TWwOPlvj",
        "nbgrader": {
          "cell_type": "markdown",
          "checksum": "c07a0720672d1b686830ce5cef78046c",
          "grade": false,
          "grade_id": "cell-580b64f506c61583",
          "locked": true,
          "schema_version": 3,
          "solution": false,
          "task": false
        }
      },
      "source": [
        "## Part 1: Polynomial Interpolation Using Newton's Divided Difference Form\n",
        "---\n"
      ]
    },
    {
      "cell_type": "markdown",
      "metadata": {
        "deletable": false,
        "editable": false,
        "id": "AgAbn67kPlvj",
        "nbgrader": {
          "cell_type": "markdown",
          "checksum": "030540dd5ee10acfca978c35d1e76cb8",
          "grade": false,
          "grade_id": "cell-95fa6d3532e84eff",
          "locked": true,
          "schema_version": 3,
          "solution": false,
          "task": false
        }
      },
      "source": [
        "### Newton's Divided Difference Form\n",
        "\n",
        "Newton form of a $n$ degree polynomial:\n",
        "\n",
        "$$p_n(x) = \\sum_{k=0}^{n} a_kn_k(x),$$\n",
        "where the basis is:\n",
        "$$n_k(x) = \\prod_{j=0}^{k-1}(x-x_j),$$\n",
        "$$ n_0(x)=1,$$\n",
        "\n",
        "and the coefficients are: $$a_k = f[x_0, x_1, ..., x_k],$$\n",
        "\n",
        "where the notation $f[x_0, x_1,\\dots,x_k]$ denotes the divided difference.\n",
        "\n",
        "By expanding the Newton form, we get:\n",
        "\n",
        "$$p(x) = f [x_0] + (x-x_0) f[x_0,x_1] + (x-x_0) (x-x_1) f[x_0,x_1,x_2] + \\dots + (x-x_0) (x-x_1) \\dots (x-x_{k-1}) f[x_0, x_1, \\dots, x_k]$$\n",
        "\n",
        "## Task 1 - 2+2 Marks\n",
        "1. Complete the `calc_div_diff(x,y)` function which takes input `x` and `y`, and calculates all the divided differences. You may use the lambda function `difference()` inside the `calc_div_diff(x,y)` function to calculate the divided differences.\n",
        "\n",
        "2. Complete the `__call__()` function which takes an input `x`, and calculates `y` using all the difference coefficients. `x` can be a single value or a numpy. In this case, it is a numpy array.\n",
        "\n",
        "`res` variable must contain all results (corresponding y for x)."
      ]
    },
    {
      "cell_type": "code",
      "execution_count": null,
      "metadata": {
        "deletable": false,
        "id": "HZhqt-6JPlvj",
        "nbgrader": {
          "cell_type": "code",
          "checksum": "abd6bbf6334a986a608c38206f702989",
          "grade": false,
          "grade_id": "cell-fbe4c16afb6b3b32",
          "locked": false,
          "schema_version": 3,
          "solution": true,
          "task": false
        }
      },
      "outputs": [],
      "source": [
        "# basic rule for calculating the difference, implanted in the lambda function.\n",
        "# You may use it if you wish\n",
        "difference = lambda y2, y1, x2, x1: (y2-y1)/(x2-x1)\n",
        "\n",
        "def calc_div_diff(x,y):\n",
        "    assert(len(x)==len(y))\n",
        "    #write this function to calculate all the divided differences in the list 'b'\n",
        "    n = len(x)\n",
        "    b = np.zeros((n,n))  #initializing\n",
        "    #----------------------------------------------\n",
        "    # YOUR CODE HERE\n",
        "    b[:,0]=y\n",
        "    for i in range(1,n):\n",
        "      for j in range(n-i):\n",
        "        b[j][i]=difference(b[j+1][i-1],b[j][i-1],x[j+i],x[j])\n",
        "    #raise NotImplementedError()\n",
        "\n",
        "    #----------------------------------------------\n",
        "\n",
        "    return b[0]"
      ]
    },
    {
      "cell_type": "code",
      "execution_count": null,
      "metadata": {
        "deletable": false,
        "editable": false,
        "id": "FancUC_xPlvk",
        "nbgrader": {
          "cell_type": "code",
          "checksum": "a23dd58fcab86885a166b1e138b9ea08",
          "grade": true,
          "grade_id": "cell-72b9329c6c32517e",
          "locked": true,
          "points": 5,
          "schema_version": 3,
          "solution": false,
          "task": false
        }
      },
      "outputs": [],
      "source": [
        "data_x = [-3.,-2.,-1.,0.,1.,3.,4.]\n",
        "data_y = [-60.,-80.,6.,1.,45.,30.,16.]\n",
        "\n",
        "test = calc_div_diff(data_x, data_y)\n",
        "\n",
        "np.testing.assert_array_equal([-60.0,-20.0,53.0,-32.833333333333336,14.041666666666668,-3.465277777777778,0.7232142857142857], test)\n"
      ]
    },
    {
      "cell_type": "code",
      "execution_count": null,
      "metadata": {
        "deletable": false,
        "id": "iLUOVj3APlvj",
        "nbgrader": {
          "cell_type": "code",
          "checksum": "50cdde63e49e009a199201f86744564a",
          "grade": false,
          "grade_id": "cell-9e446c528b62c87f",
          "locked": false,
          "schema_version": 3,
          "solution": true,
          "task": false
        }
      },
      "outputs": [],
      "source": [
        "class Newtons_Divided_Differences:\n",
        "\n",
        "    def __init__(self, differences, data_x):\n",
        "        self.differences = differences\n",
        "        self.data_x = data_x\n",
        "\n",
        "    def n(self, k, x):\n",
        "\n",
        "        result = 1\n",
        "        #----------------------------------------------\n",
        "        # YOUR CODE HERE\n",
        "        for i in range(k):\n",
        "          result*=(x-self.data_x[i])\n",
        "        #raise NotImplementedError()\n",
        "        #----------------------------------------------\n",
        "\n",
        "        return result\n",
        "\n",
        "    def __call__(self, x):\n",
        "        '''\n",
        "        this function is for calculating y from given x using all the difference coefficients\n",
        "        x can be a single value or a numpy\n",
        "        the formula being used:\n",
        "        f(x) = f [x0] + (x-x0) f[x0,x1] + (x-x0) (x-x1) f[x0,x1,x2] + . . . + (x-x0) (x-x1) . . . (x-xk-1) f[x0, x1, . . ., xk]\n",
        "\n",
        "        work on this after implementing 'calc_div_diff'. Then you should have\n",
        "        f[x0], f[x0,x1]. . . . . ., f[x0, x1, . . ., xk] stored in self.differences\n",
        "\n",
        "        'res' variable must return all the results (corresponding y for x)\n",
        "        '''\n",
        "\n",
        "        res = np.zeros(len(x)) #Initialization to avoid runtime error. You can change this line if you wish\n",
        "\n",
        "        #----------------------------------------------\n",
        "        # YOUR CODE HERE\n",
        "        for k in range(len(self.differences)):\n",
        "          res+=self.differences[k]*self.n(k,x)\n",
        "        #raise NotImplementedError()\n",
        "        #----------------------------------------------\n",
        "\n",
        "        return res\n"
      ]
    },
    {
      "cell_type": "markdown",
      "metadata": {
        "deletable": false,
        "editable": false,
        "id": "affgKuuNPlvk",
        "nbgrader": {
          "cell_type": "markdown",
          "checksum": "e2b6e9e71eaf31b857393044c2768ac0",
          "grade": false,
          "grade_id": "cell-f6a9f264b02b2642",
          "locked": true,
          "schema_version": 3,
          "solution": false,
          "task": false
        }
      },
      "source": [
        "### Plotting the polynomial\n",
        "* `data_x` and `data_y` are the coordinates of the given nodes.\n",
        "\n",
        "* `differences` is a list which contains the divided differences as each of its elements: $f[x_0], f[x_0,x_1], f[x_0,x_1,x_2], \\dots$\n",
        "\n",
        "* `obj` is an object of type `Newtons_Divided_Differences`. Creating the object runs the constructor of the class where the `difference` are stored in `self.differences`.\n",
        "\n",
        "* `X` contains $x_i$ values through which we want to plot our polynomial.\n",
        "\n",
        "* Calling the object using `obj(X)` executes the `__call__()` function of the class, which returns a numpy array containing the corresponding $y_i$ values, and storing them in variable `F`.\n",
        "\n",
        "* Using `plt.plot(X,F)`, we plot the $(x_i, y_i)$ pairs of the polynomial."
      ]
    },
    {
      "cell_type": "code",
      "execution_count": null,
      "metadata": {
        "deletable": false,
        "editable": false,
        "id": "akcjxODFPlvk",
        "nbgrader": {
          "cell_type": "code",
          "checksum": "3f9ba22ae7061e1d74101e40a2d5a7a4",
          "grade": true,
          "grade_id": "cell-a16b9abefbcdc519",
          "locked": true,
          "points": 5,
          "schema_version": 3,
          "solution": false,
          "task": false
        },
        "colab": {
          "base_uri": "https://localhost:8080/",
          "height": 432
        },
        "outputId": "c5d43cc7-1d56-4247-81d9-c2aff4a57ff5"
      },
      "outputs": [
        {
          "output_type": "display_data",
          "data": {
            "text/plain": [
              "<Figure size 640x480 with 1 Axes>"
            ],
            "image/png": "[encoded data removed]"
          },
          "metadata": {}
        }
      ],
      "source": [
        "import numpy as np\n",
        "import matplotlib.pyplot as plt\n",
        "\n",
        "data_x = np.array([-5.,-1,-0.5,0.5,3.5,7.,9])\n",
        "data_y = np.array([-30., -50., 36., 31., 75., 60., 46.])\n",
        "differences = calc_div_diff(list(data_x), list(data_y))\n",
        "p = Newtons_Divided_Differences(list(differences),data_x)\n",
        "test_x = np.linspace(-7, 10, 50, endpoint=True)\n",
        "test_y = p(test_x)\n",
        "\n",
        "#generating 50 points from -3 to 4 in order to create a smooth line\n",
        "plt.plot(test_x, test_y)\n",
        "plt.plot(data_x, data_y, 'ro')\n",
        "plt.show()\n"
      ]
    },
    {
      "cell_type": "markdown",
      "source": [
        "# Daily Evaluation - 4 marks"
      ],
      "metadata": {
        "id": "eQ634Itmk-Cc"
      }
    },
    {
      "cell_type": "code",
      "source": [
        "import numpy as np\n",
        "import matplotlib.pyplot as plt\n",
        "\n",
        "data_x = np.array([-1.5,0.5,1.67])\n",
        "data_y = np.array([3.75,1.22,2.9])\n",
        "differences = calc_div_diff(list(data_x), list(data_y))\n",
        "p = Newtons_Divided_Differences(list(differences),data_x)\n",
        "x=np.array([0.25])\n",
        "res=p(x)\n",
        "print(res)\n",
        "\n",
        "\n"
      ],
      "metadata": {
        "id": "s-AfsuWHk-Us",
        "colab": {
          "base_uri": "https://localhost:8080/"
        },
        "outputId": "36b5d644-2239-4936-f29a-cdc3dd3f3397"
      },
      "execution_count": null,
      "outputs": [
        {
          "output_type": "stream",
          "name": "stdout",
          "text": [
            "[1.16349207]\n"
          ]
        }
      ]
    }
  ],
  "metadata": {
    "colab": {
      "provenance": []
    },
    "kernelspec": {
      "display_name": "Python 3",
      "language": "python",
      "name": "python3"
    },
    "language_info": {
      "codemirror_mode": {
        "name": "ipython",
        "version": 3
      },
      "file_extension": ".py",
      "mimetype": "text/x-python",
      "name": "python",
      "nbconvert_exporter": "python",
      "pygments_lexer": "ipython3",
      "version": "3.9.1"
    }
  },
  "nbformat": 4,
  "nbformat_minor": 0
}